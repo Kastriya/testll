{
  "nbformat": 4,
  "nbformat_minor": 0,
  "metadata": {
    "colab": {
      "provenance": [],
      "authorship_tag": "ABX9TyNL87vjP++rJ43DTOdN/Smg",
      "include_colab_link": true
    },
    "kernelspec": {
      "name": "python3",
      "display_name": "Python 3"
    },
    "language_info": {
      "name": "python"
    }
  },
  "cells": [
    {
      "cell_type": "markdown",
      "metadata": {
        "id": "view-in-github",
        "colab_type": "text"
      },
      "source": [
        "<a href=\"https://colab.research.google.com/github/Kastriya/testll/blob/main/Linkedlist.ipynb\" target=\"_parent\"><img src=\"https://colab.research.google.com/assets/colab-badge.svg\" alt=\"Open In Colab\"/></a>"
      ]
    },
    {
      "cell_type": "code",
      "execution_count": null,
      "metadata": {
        "id": "PO19yKNn0_M0"
      },
      "outputs": [],
      "source": [
        "class Node:\n",
        "  def __init__(self,value):\n",
        "    self.value=value\n",
        "    self.next=None"
      ]
    },
    {
      "cell_type": "code",
      "source": [
        "a=Node(1)\n",
        "b=Node(2)\n",
        "c=Node(3)\n",
        "print(a)\n",
        "a.next=b\n",
        "b.next=c\n",
        "print(a.next)"
      ],
      "metadata": {
        "id": "A_OsPKSSJkoS",
        "outputId": "ced21e98-bff5-483c-ee35-81b71995fa98",
        "colab": {
          "base_uri": "https://localhost:8080/"
        }
      },
      "execution_count": null,
      "outputs": [
        {
          "output_type": "stream",
          "name": "stdout",
          "text": [
            "<__main__.Node object at 0x79e580210f50>\n",
            "<__main__.Node object at 0x79e580210e10>\n"
          ]
        }
      ]
    },
    {
      "cell_type": "code",
      "source": [
        "a=Node(1)\n",
        "b=Node(2)\n",
        "c=Node(3)\n",
        "print(a)\n",
        "a.next=b\n",
        "b.next=c\n",
        "print(a.next)"
      ],
      "metadata": {
        "colab": {
          "base_uri": "https://localhost:8080/",
          "height": 216
        },
        "id": "FnEwYYf21Ytq",
        "outputId": "97e9334a-5cc0-49eb-cd2b-b4f47acf949a"
      },
      "execution_count": null,
      "outputs": [
        {
          "output_type": "error",
          "ename": "NameError",
          "evalue": "name 'Node' is not defined",
          "traceback": [
            "\u001b[0;31m---------------------------------------------------------------------------\u001b[0m",
            "\u001b[0;31mNameError\u001b[0m                                 Traceback (most recent call last)",
            "\u001b[0;32m<ipython-input-1-6c577e6113af>\u001b[0m in \u001b[0;36m<cell line: 0>\u001b[0;34m()\u001b[0m\n\u001b[0;32m----> 1\u001b[0;31m \u001b[0ma\u001b[0m\u001b[0;34m=\u001b[0m\u001b[0mNode\u001b[0m\u001b[0;34m(\u001b[0m\u001b[0;36m1\u001b[0m\u001b[0;34m)\u001b[0m\u001b[0;34m\u001b[0m\u001b[0;34m\u001b[0m\u001b[0m\n\u001b[0m\u001b[1;32m      2\u001b[0m \u001b[0mb\u001b[0m\u001b[0;34m=\u001b[0m\u001b[0mNode\u001b[0m\u001b[0;34m(\u001b[0m\u001b[0;36m2\u001b[0m\u001b[0;34m)\u001b[0m\u001b[0;34m\u001b[0m\u001b[0;34m\u001b[0m\u001b[0m\n\u001b[1;32m      3\u001b[0m \u001b[0mc\u001b[0m\u001b[0;34m=\u001b[0m\u001b[0mNode\u001b[0m\u001b[0;34m(\u001b[0m\u001b[0;36m3\u001b[0m\u001b[0;34m)\u001b[0m\u001b[0;34m\u001b[0m\u001b[0;34m\u001b[0m\u001b[0m\n\u001b[1;32m      4\u001b[0m \u001b[0mprint\u001b[0m\u001b[0;34m(\u001b[0m\u001b[0ma\u001b[0m\u001b[0;34m)\u001b[0m\u001b[0;34m\u001b[0m\u001b[0;34m\u001b[0m\u001b[0m\n\u001b[1;32m      5\u001b[0m \u001b[0ma\u001b[0m\u001b[0;34m.\u001b[0m\u001b[0mnext\u001b[0m\u001b[0;34m=\u001b[0m\u001b[0mb\u001b[0m\u001b[0;34m\u001b[0m\u001b[0;34m\u001b[0m\u001b[0m\n",
            "\u001b[0;31mNameError\u001b[0m: name 'Node' is not defined"
          ]
        }
      ]
    },
    {
      "cell_type": "code",
      "source": [
        "class LinkedList:\n",
        "  def __init__(self):\n",
        "    self.head=None\n",
        "    self.node=0\n",
        "\n",
        "  def __len__(self):\n",
        "      return self.node\n",
        "  def insert_head(self,value):\n",
        "\n",
        "    # node\n",
        "      self.new_node = Node(value)\n",
        "\n",
        "        # create connection @\n",
        "      self.new_node.next = self.head\n",
        "\n",
        "        # reassign head\n",
        "      self.head = self.new_node\n",
        "\n",
        "        # increment n\n",
        "      self.node = self.node + 1\n",
        "\n",
        "  def display_info(self):\n",
        "      return self.new_node,self.head\n",
        "\n",
        "  def traverse(self):\n",
        "    curr=self.head\n",
        "    while curr is not None:\n",
        "      print(curr.value)\n",
        "      curr=curr.next\n"
      ],
      "metadata": {
        "id": "y3Xgncm-4b3w"
      },
      "execution_count": null,
      "outputs": []
    },
    {
      "cell_type": "code",
      "source": [
        "l=LinkedList()\n",
        "len(l)"
      ],
      "metadata": {
        "colab": {
          "base_uri": "https://localhost:8080/"
        },
        "id": "CZVoNwRH5O5p",
        "outputId": "d45a28be-36d6-46f9-c155-857d8f84cbfa"
      },
      "execution_count": null,
      "outputs": [
        {
          "output_type": "execute_result",
          "data": {
            "text/plain": [
              "0"
            ]
          },
          "metadata": {},
          "execution_count": 25
        }
      ]
    },
    {
      "cell_type": "code",
      "source": [
        "l=LinkedList()\n",
        "l.insert_head(1)\n",
        "l.insert_head(2)\n",
        "l.insert_head(3)\n",
        "l.insert_head(4)\n",
        "l.insert_head(5)\n",
        "l.traverse()"
      ],
      "metadata": {
        "colab": {
          "base_uri": "https://localhost:8080/",
          "height": 341
        },
        "id": "z7vH9e9C7pbz",
        "outputId": "f1081c7b-7fb5-44ba-decb-53e987c4f8f2"
      },
      "execution_count": null,
      "outputs": [
        {
          "output_type": "error",
          "ename": "NameError",
          "evalue": "name 'Node' is not defined",
          "traceback": [
            "\u001b[0;31m---------------------------------------------------------------------------\u001b[0m",
            "\u001b[0;31mNameError\u001b[0m                                 Traceback (most recent call last)",
            "\u001b[0;32m<ipython-input-5-b3b8ec4d32d0>\u001b[0m in \u001b[0;36m<cell line: 0>\u001b[0;34m()\u001b[0m\n\u001b[1;32m      1\u001b[0m \u001b[0ml\u001b[0m\u001b[0;34m=\u001b[0m\u001b[0mLinkedList\u001b[0m\u001b[0;34m(\u001b[0m\u001b[0;34m)\u001b[0m\u001b[0;34m\u001b[0m\u001b[0;34m\u001b[0m\u001b[0m\n\u001b[0;32m----> 2\u001b[0;31m \u001b[0ml\u001b[0m\u001b[0;34m.\u001b[0m\u001b[0minsert_head\u001b[0m\u001b[0;34m(\u001b[0m\u001b[0;36m1\u001b[0m\u001b[0;34m)\u001b[0m\u001b[0;34m\u001b[0m\u001b[0;34m\u001b[0m\u001b[0m\n\u001b[0m\u001b[1;32m      3\u001b[0m \u001b[0ml\u001b[0m\u001b[0;34m.\u001b[0m\u001b[0minsert_head\u001b[0m\u001b[0;34m(\u001b[0m\u001b[0;36m2\u001b[0m\u001b[0;34m)\u001b[0m\u001b[0;34m\u001b[0m\u001b[0;34m\u001b[0m\u001b[0m\n\u001b[1;32m      4\u001b[0m \u001b[0ml\u001b[0m\u001b[0;34m.\u001b[0m\u001b[0minsert_head\u001b[0m\u001b[0;34m(\u001b[0m\u001b[0;36m3\u001b[0m\u001b[0;34m)\u001b[0m\u001b[0;34m\u001b[0m\u001b[0;34m\u001b[0m\u001b[0m\n\u001b[1;32m      5\u001b[0m \u001b[0ml\u001b[0m\u001b[0;34m.\u001b[0m\u001b[0minsert_head\u001b[0m\u001b[0;34m(\u001b[0m\u001b[0;36m4\u001b[0m\u001b[0;34m)\u001b[0m\u001b[0;34m\u001b[0m\u001b[0;34m\u001b[0m\u001b[0m\n",
            "\u001b[0;32m<ipython-input-4-c29a57002b8b>\u001b[0m in \u001b[0;36minsert_head\u001b[0;34m(self, value)\u001b[0m\n\u001b[1;32m      9\u001b[0m \u001b[0;34m\u001b[0m\u001b[0m\n\u001b[1;32m     10\u001b[0m     \u001b[0;31m# node\u001b[0m\u001b[0;34m\u001b[0m\u001b[0;34m\u001b[0m\u001b[0m\n\u001b[0;32m---> 11\u001b[0;31m       \u001b[0mself\u001b[0m\u001b[0;34m.\u001b[0m\u001b[0mnew_node\u001b[0m \u001b[0;34m=\u001b[0m \u001b[0mNode\u001b[0m\u001b[0;34m(\u001b[0m\u001b[0mvalue\u001b[0m\u001b[0;34m)\u001b[0m\u001b[0;34m\u001b[0m\u001b[0;34m\u001b[0m\u001b[0m\n\u001b[0m\u001b[1;32m     12\u001b[0m \u001b[0;34m\u001b[0m\u001b[0m\n\u001b[1;32m     13\u001b[0m         \u001b[0;31m# create connection @\u001b[0m\u001b[0;34m\u001b[0m\u001b[0;34m\u001b[0m\u001b[0m\n",
            "\u001b[0;31mNameError\u001b[0m: name 'Node' is not defined"
          ]
        }
      ]
    },
    {
      "source": [
        "# %%\n",
        "class Node:\n",
        "    def __init__(self,value):\n",
        "        self.value=value\n",
        "        self.next=None\n",
        "\n",
        "# %%\n",
        "a=Node(1)\n",
        "b=Node(2)\n",
        "c=Node(3)\n",
        "print(a)\n",
        "a.next=b\n",
        "b.next=c\n",
        "print(a.next)\n",
        "# %%\n",
        "class LinkedList:\n",
        "    def __init__(self):\n",
        "        self.head=None\n",
        "        self.node=0\n",
        "\n",
        "    def __len__(self):\n",
        "        return self.node\n",
        "\n",
        "    def insert_head(self,value):\n",
        "        # node\n",
        "        self.new_node = Node(value) # Node is now defined in the same cell scope\n",
        "\n",
        "        # create connection @\n",
        "        self.new_node.next = self.head\n",
        "\n",
        "        # reassign head\n",
        "        self.head = self.new_node\n",
        "\n",
        "        # increment n\n",
        "        self.node = self.node + 1\n",
        "\n",
        "    def display_info(self):\n",
        "        return self.new_node,self.head\n",
        "\n",
        "    def traverse(self):\n",
        "        curr=self.head\n",
        "        while curr is not None:\n",
        "            print(curr.value)\n",
        "            curr=curr.next\n",
        "\n",
        "# %%\n",
        "l=LinkedList()\n",
        "len(l)\n",
        "# %%\n",
        "l=LinkedList()\n",
        "l.insert_head(1)\n",
        "l.insert_head(2)\n",
        "l.insert_head(3)\n",
        "l.insert_head(4)\n",
        "l.insert_head(5)\n",
        "l.traverse()\n",
        "# %%"
      ],
      "cell_type": "code",
      "metadata": {
        "colab": {
          "base_uri": "https://localhost:8080/"
        },
        "id": "b76MRRkG8Hy7",
        "outputId": "ab14368b-54f4-4eb9-f945-065cfbddbc0d"
      },
      "execution_count": null,
      "outputs": [
        {
          "output_type": "stream",
          "name": "stdout",
          "text": [
            "<__main__.Node object at 0x7d15782ad950>\n",
            "<__main__.Node object at 0x7d1578a6eed0>\n",
            "5\n",
            "4\n",
            "3\n",
            "2\n",
            "1\n"
          ]
        }
      ]
    },
    {
      "source": [
        "class LinkedList:\n",
        "\n",
        "    def __init__(self):\n",
        "        self.head=None\n",
        "        self.node=0\n",
        "\n",
        "    def __len__(self):\n",
        "        return self.node\n",
        "\n",
        "    def insert_head(self,value):\n",
        "        # node\n",
        "        self.new_node = Node(value) # Node is now defined in the same cell scope\n",
        "\n",
        "        # create connection @\n",
        "        self.new_node.next = self.head\n",
        "\n",
        "        # reassign head\n",
        "        self.head = self.new_node\n",
        "\n",
        "        # increment n\n",
        "        self.node = self.node + 1\n",
        "\n",
        "    def display_info(self):\n",
        "        return self.new_node,self.head\n",
        "\n",
        "    def traverse(self):\n",
        "        curr=self.head\n",
        "        while curr is not None:\n",
        "            print(curr.value)\n",
        "            curr=curr.next\n",
        "\n",
        "    def append(self,value):\n",
        "        new_node=Node(value)\n",
        "        if self.head is None:\n",
        "            self.head=new_node\n",
        "            self.node=self.node+1\n",
        "            return self  # Return the LinkedList object\n",
        "        curr=self.head\n",
        "        while curr.next is not None :\n",
        "            curr=curr.next\n",
        "        curr.next=new_node\n",
        "        self.node = self.node + 1 # Increment the node count\n",
        "        return self # Return the LinkedList object"
      ],
      "cell_type": "code",
      "metadata": {
        "id": "Xk7pyq6U8H1r"
      },
      "execution_count": null,
      "outputs": []
    },
    {
      "cell_type": "code",
      "source": [
        "print(l.append(3))"
      ],
      "metadata": {
        "colab": {
          "base_uri": "https://localhost:8080/",
          "height": 144
        },
        "id": "DpvOMur567PC",
        "outputId": "9caeeff4-d733-4d89-e60e-d0a16dbaea50"
      },
      "execution_count": null,
      "outputs": [
        {
          "output_type": "error",
          "ename": "AttributeError",
          "evalue": "'LinkedList' object has no attribute 'append'",
          "traceback": [
            "\u001b[0;31m---------------------------------------------------------------------------\u001b[0m",
            "\u001b[0;31mAttributeError\u001b[0m                            Traceback (most recent call last)",
            "\u001b[0;32m<ipython-input-31-f1c86af96698>\u001b[0m in \u001b[0;36m<cell line: 0>\u001b[0;34m()\u001b[0m\n\u001b[0;32m----> 1\u001b[0;31m \u001b[0mprint\u001b[0m\u001b[0;34m(\u001b[0m\u001b[0ml\u001b[0m\u001b[0;34m.\u001b[0m\u001b[0mappend\u001b[0m\u001b[0;34m(\u001b[0m\u001b[0;36m3\u001b[0m\u001b[0;34m)\u001b[0m\u001b[0;34m)\u001b[0m\u001b[0;34m\u001b[0m\u001b[0;34m\u001b[0m\u001b[0m\n\u001b[0m",
            "\u001b[0;31mAttributeError\u001b[0m: 'LinkedList' object has no attribute 'append'"
          ]
        }
      ]
    }
  ]
}